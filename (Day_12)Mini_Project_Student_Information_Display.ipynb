{
  "nbformat": 4,
  "nbformat_minor": 0,
  "metadata": {
    "colab": {
      "provenance": [],
      "authorship_tag": "ABX9TyOujBOffZEFnadovsotE2gw",
      "include_colab_link": true
    },
    "kernelspec": {
      "name": "python3",
      "display_name": "Python 3"
    },
    "language_info": {
      "name": "python"
    }
  },
  "cells": [
    {
      "cell_type": "markdown",
      "metadata": {
        "id": "view-in-github",
        "colab_type": "text"
      },
      "source": [
        "<a href=\"https://colab.research.google.com/github/itbvrith191227/30-Days-of-Python-Programming/blob/main/(Day_12)Mini_Project_Student_Information_Display.ipynb\" target=\"_parent\"><img src=\"https://colab.research.google.com/assets/colab-badge.svg\" alt=\"Open In Colab\"/></a>"
      ]
    },
    {
      "cell_type": "markdown",
      "source": [
        "Store a student’s name, roll number, and grade in a tuple and display it nicely."
      ],
      "metadata": {
        "id": "w8rqEXn5y3bv"
      }
    },
    {
      "cell_type": "code",
      "execution_count": 7,
      "metadata": {
        "colab": {
          "base_uri": "https://localhost:8080/"
        },
        "id": "y5UulY4zyjlL",
        "outputId": "acb89d06-2b99-4387-d0ce-930762247c87"
      },
      "outputs": [
        {
          "output_type": "stream",
          "name": "stdout",
          "text": [
            "('Shravya', 27, 'A')\n"
          ]
        }
      ],
      "source": [
        "student =(\"Shravya\", 27, \"A\")\n",
        "print(student)"
      ]
    },
    {
      "cell_type": "code",
      "source": [
        "print(\"name:\", student[0])\n",
        "print(\"roll number:\", student[1])\n",
        "print(\"grade:\", student[2])"
      ],
      "metadata": {
        "colab": {
          "base_uri": "https://localhost:8080/"
        },
        "id": "vrdECw_yINRc",
        "outputId": "a83a6409-81f0-482b-a567-2925618854e5"
      },
      "execution_count": 8,
      "outputs": [
        {
          "output_type": "stream",
          "name": "stdout",
          "text": [
            "name: Shravya\n",
            "roll number: 27\n",
            "grade: A\n"
          ]
        }
      ]
    }
  ]
}