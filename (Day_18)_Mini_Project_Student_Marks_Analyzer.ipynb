{
  "nbformat": 4,
  "nbformat_minor": 0,
  "metadata": {
    "colab": {
      "provenance": [],
      "authorship_tag": "ABX9TyNxaTlMXUzZxn0R7U/2GD+h",
      "include_colab_link": true
    },
    "kernelspec": {
      "name": "python3",
      "display_name": "Python 3"
    },
    "language_info": {
      "name": "python"
    }
  },
  "cells": [
    {
      "cell_type": "markdown",
      "metadata": {
        "id": "view-in-github",
        "colab_type": "text"
      },
      "source": [
        "<a href=\"https://colab.research.google.com/github/itbvrith191227/30-Days-of-Python-Programming/blob/main/(Day_18)_Mini_Project_Student_Marks_Analyzer.ipynb\" target=\"_parent\"><img src=\"https://colab.research.google.com/assets/colab-badge.svg\" alt=\"Open In Colab\"/></a>"
      ]
    },
    {
      "cell_type": "markdown",
      "source": [
        "Use *args and **kwargs concepts!"
      ],
      "metadata": {
        "id": "YKP7D10iQhh_"
      }
    },
    {
      "cell_type": "code",
      "execution_count": 12,
      "metadata": {
        "id": "P3YLo0Avxg97"
      },
      "outputs": [],
      "source": [
        "def analyzer(student_name, *marks, **details):\n",
        "  total = sum(marks)\n",
        "  avg = total/len(marks)\n",
        "  print(f\"Student: {student_name}\")\n",
        "  print(\"Total Marks:\", total)\n",
        "  print(\"Average:\", avg)\n",
        "  print(\"Details:\", details)"
      ]
    },
    {
      "cell_type": "code",
      "source": [
        "analyzer(\"Shravya\", 100,90,80,70, branch=\"IT\", year=2023, city=\"Hyderabad\")"
      ],
      "metadata": {
        "colab": {
          "base_uri": "https://localhost:8080/"
        },
        "id": "ZmrWvKyrTIRq",
        "outputId": "4f7dbc2c-d6eb-4965-e6c7-4576df10d7da"
      },
      "execution_count": 13,
      "outputs": [
        {
          "output_type": "stream",
          "name": "stdout",
          "text": [
            "Student: Shravya\n",
            "Total Marks: 340\n",
            "Average: 85.0\n",
            "Details: {'branch': 'IT', 'year': 2023, 'city': 'Hyderabad'}\n"
          ]
        }
      ]
    }
  ]
}