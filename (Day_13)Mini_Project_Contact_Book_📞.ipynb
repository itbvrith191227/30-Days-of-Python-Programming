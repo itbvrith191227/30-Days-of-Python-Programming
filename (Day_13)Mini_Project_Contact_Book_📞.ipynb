{
  "nbformat": 4,
  "nbformat_minor": 0,
  "metadata": {
    "colab": {
      "provenance": [],
      "authorship_tag": "ABX9TyNjHYIhMJV+kKCN895twhiy",
      "include_colab_link": true
    },
    "kernelspec": {
      "name": "python3",
      "display_name": "Python 3"
    },
    "language_info": {
      "name": "python"
    }
  },
  "cells": [
    {
      "cell_type": "markdown",
      "metadata": {
        "id": "view-in-github",
        "colab_type": "text"
      },
      "source": [
        "<a href=\"https://colab.research.google.com/github/itbvrith191227/30-Days-of-Python-Programming/blob/main/(Day_13)Mini_Project_Contact_Book_%F0%9F%93%9E.ipynb\" target=\"_parent\"><img src=\"https://colab.research.google.com/assets/colab-badge.svg\" alt=\"Open In Colab\"/></a>"
      ]
    },
    {
      "cell_type": "markdown",
      "source": [
        "Create a simple contact book using a dictionary:\n",
        "Store names as keys and phone numbers as values.\n",
        "Ask the user for 3 contacts.\n",
        "Print all contacts in a nice format."
      ],
      "metadata": {
        "id": "boEyvyKhR-bz"
      }
    },
    {
      "cell_type": "code",
      "source": [
        "contact_book = {\"names\": \"phone_numbers\"}"
      ],
      "metadata": {
        "id": "Sz5-C_8lTPgk"
      },
      "execution_count": 6,
      "outputs": []
    },
    {
      "cell_type": "code",
      "source": [
        "for i in range(3):\n",
        "  name = input(\"enter name: \")\n",
        "  phone_numbers = input(\"enter phone_numbers: \")\n",
        "  contact_book[name] = phone_numbers"
      ],
      "metadata": {
        "colab": {
          "base_uri": "https://localhost:8080/"
        },
        "id": "ZclZyRKYU8-d",
        "outputId": "181cb637-00c8-4781-be01-55e24ddc248b"
      },
      "execution_count": 7,
      "outputs": [
        {
          "name": "stdout",
          "output_type": "stream",
          "text": [
            "enter name: Alex\n",
            "enter phone_numbers: 9876543210\n",
            "enter name: Bob\n",
            "enter phone_numbers: 8765432109\n",
            "enter name: Ken\n",
            "enter phone_numbers: 7654321098\n"
          ]
        }
      ]
    },
    {
      "cell_type": "code",
      "source": [
        "print(contact_book)"
      ],
      "metadata": {
        "colab": {
          "base_uri": "https://localhost:8080/"
        },
        "id": "1cUfNW-XVx_K",
        "outputId": "f519e448-dbc0-4e54-8c25-3ba0185c1a9c"
      },
      "execution_count": 8,
      "outputs": [
        {
          "output_type": "stream",
          "name": "stdout",
          "text": [
            "{'names': 'phone_numbers', 'Alex': '9876543210', 'Bob': '8765432109', 'Ken': '7654321098'}\n"
          ]
        }
      ]
    }
  ]
}