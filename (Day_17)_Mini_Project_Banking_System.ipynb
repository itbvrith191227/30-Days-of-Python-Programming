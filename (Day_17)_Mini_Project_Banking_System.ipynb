{
  "nbformat": 4,
  "nbformat_minor": 0,
  "metadata": {
    "colab": {
      "provenance": [],
      "authorship_tag": "ABX9TyNgoAutufvdf1qmO2clQHJl",
      "include_colab_link": true
    },
    "kernelspec": {
      "name": "python3",
      "display_name": "Python 3"
    },
    "language_info": {
      "name": "python"
    }
  },
  "cells": [
    {
      "cell_type": "markdown",
      "metadata": {
        "id": "view-in-github",
        "colab_type": "text"
      },
      "source": [
        "<a href=\"https://colab.research.google.com/github/itbvrith191227/30-Days-of-Python-Programming/blob/main/(Day_17)_Mini_Project_Banking_System.ipynb\" target=\"_parent\"><img src=\"https://colab.research.google.com/assets/colab-badge.svg\" alt=\"Open In Colab\"/></a>"
      ]
    },
    {
      "cell_type": "markdown",
      "source": [
        "You’ll use multiple returns and nested functions here.\n",
        "Features:\n",
        "\n",
        "Deposit money\n",
        "\n",
        "Withdraw money\n",
        "\n",
        "Show balance"
      ],
      "metadata": {
        "id": "iK4LyKHYORTC"
      }
    },
    {
      "cell_type": "code",
      "source": [
        "def bank_system():\n",
        "    balance = 0\n",
        "\n",
        "    def deposit(amount):\n",
        "        nonlocal balance\n",
        "        balance += amount\n",
        "        print(\"Deposited:\", amount)\n",
        "        return balance\n",
        "\n",
        "    def withdraw(amount):\n",
        "        nonlocal balance\n",
        "        if amount <= balance:\n",
        "            balance -= amount\n",
        "            print(\"Withdrew:\", amount)\n",
        "        else:\n",
        "            print(\"Insufficient balance!\")\n",
        "        return balance\n",
        "\n",
        "    def check_balance():\n",
        "        return balance\n",
        "    deposit(1000)\n",
        "    withdraw(300)\n",
        "    print(\"Current Balance:\", check_balance())\n",
        "bank_system()"
      ],
      "metadata": {
        "colab": {
          "base_uri": "https://localhost:8080/"
        },
        "id": "K0eAbht9tM_r",
        "outputId": "4a077bea-90eb-4b17-e033-dfd85928018a"
      },
      "execution_count": 27,
      "outputs": [
        {
          "output_type": "stream",
          "name": "stdout",
          "text": [
            "Deposited: 1000\n",
            "Withdrew: 300\n",
            "Current Balance: 700\n"
          ]
        }
      ]
    }
  ]
}