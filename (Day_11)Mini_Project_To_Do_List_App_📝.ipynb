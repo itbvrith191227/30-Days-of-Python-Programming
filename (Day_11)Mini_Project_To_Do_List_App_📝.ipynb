{
  "nbformat": 4,
  "nbformat_minor": 0,
  "metadata": {
    "colab": {
      "provenance": [],
      "authorship_tag": "ABX9TyMH5j9nZr9Fy0aFUNOsSqvF",
      "include_colab_link": true
    },
    "kernelspec": {
      "name": "python3",
      "display_name": "Python 3"
    },
    "language_info": {
      "name": "python"
    }
  },
  "cells": [
    {
      "cell_type": "markdown",
      "metadata": {
        "id": "view-in-github",
        "colab_type": "text"
      },
      "source": [
        "<a href=\"https://colab.research.google.com/github/itbvrith191227/30-Days-of-Python-Programming/blob/main/(Day_11)Mini_Project_To_Do_List_App_%F0%9F%93%9D.ipynb\" target=\"_parent\"><img src=\"https://colab.research.google.com/assets/colab-badge.svg\" alt=\"Open In Colab\"/></a>"
      ]
    },
    {
      "cell_type": "markdown",
      "source": [
        "Start with an empty list.\n",
        "Let the user add 3 tasks using .append().\n",
        "Print the full list.\n",
        "Ask which task to remove, then remove it.\n",
        "Print the updated list."
      ],
      "metadata": {
        "id": "LmEROI0uubh2"
      }
    },
    {
      "cell_type": "code",
      "source": [
        "tasks = []\n",
        "for i in range(3):\n",
        "    task = input(f\"Enter task {i+1}:\")\n",
        "    tasks.append(task)\n",
        "print(tasks)"
      ],
      "metadata": {
        "colab": {
          "base_uri": "https://localhost:8080/"
        },
        "id": "LkQcOk_OuW6j",
        "outputId": "6cb89f7b-c65e-4369-f3c6-98d492b7ec65"
      },
      "execution_count": 1,
      "outputs": [
        {
          "output_type": "stream",
          "name": "stdout",
          "text": [
            "Enter task 1:python practise\n",
            "Enter task 2:apply jobs\n",
            "Enter task 3:organise home\n",
            "['python practise', 'apply jobs', 'organise home']\n"
          ]
        }
      ]
    },
    {
      "cell_type": "markdown",
      "source": [
        "Ask which task to remove, then remove it. Print the updated list."
      ],
      "metadata": {
        "id": "zBMshKTSxeg1"
      }
    },
    {
      "cell_type": "code",
      "source": [
        "remove_task = input(\"Which task to remove? \")\n",
        "if remove_task in tasks:\n",
        "    tasks.remove(remove_task)\n",
        "else:\n",
        "    print(\"Task not found!\")\n",
        "\n",
        "print(\"Updated To-Do List:\", tasks)"
      ],
      "metadata": {
        "colab": {
          "base_uri": "https://localhost:8080/"
        },
        "id": "A0Wg98I44XV9",
        "outputId": "ff47663b-957a-4928-ac2e-7932c49ba6e5"
      },
      "execution_count": 6,
      "outputs": [
        {
          "output_type": "stream",
          "name": "stdout",
          "text": [
            "Which task to remove? apply jobs\n",
            "Updated To-Do List: ['python practise', 'organise home']\n"
          ]
        }
      ]
    }
  ]
}