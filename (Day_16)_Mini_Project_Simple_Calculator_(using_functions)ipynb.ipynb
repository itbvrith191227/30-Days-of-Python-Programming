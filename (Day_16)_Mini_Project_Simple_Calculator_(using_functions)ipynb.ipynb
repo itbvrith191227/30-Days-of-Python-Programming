{
  "nbformat": 4,
  "nbformat_minor": 0,
  "metadata": {
    "colab": {
      "provenance": [],
      "authorship_tag": "ABX9TyONc6HRllIE9L8Y+nWcPf/d",
      "include_colab_link": true
    },
    "kernelspec": {
      "name": "python3",
      "display_name": "Python 3"
    },
    "language_info": {
      "name": "python"
    }
  },
  "cells": [
    {
      "cell_type": "markdown",
      "metadata": {
        "id": "view-in-github",
        "colab_type": "text"
      },
      "source": [
        "<a href=\"https://colab.research.google.com/github/itbvrith191227/30-Days-of-Python-Programming/blob/main/(Day_16)_Mini_Project_Simple_Calculator_(using_functions)ipynb.ipynb\" target=\"_parent\"><img src=\"https://colab.research.google.com/assets/colab-badge.svg\" alt=\"Open In Colab\"/></a>"
      ]
    },
    {
      "cell_type": "markdown",
      "source": [
        "Write separate functions for each operation and let the user choose one."
      ],
      "metadata": {
        "id": "TVw6HdDauqeH"
      }
    },
    {
      "cell_type": "code",
      "execution_count": 16,
      "metadata": {
        "id": "flOZM4YAlqpm",
        "colab": {
          "base_uri": "https://localhost:8080/"
        },
        "outputId": "a8019164-33d5-4cdd-f63d-e21923fd8bfe"
      },
      "outputs": [
        {
          "output_type": "stream",
          "name": "stdout",
          "text": [
            "Enter first number: 9\n",
            "Enter second number: 7\n",
            "Enter an Operation (+, -, *, /): =\n",
            "Invalid operation.\n"
          ]
        }
      ],
      "source": [
        "a = int(input(\"Enter first number: \"))\n",
        "b = int(input(\"Enter second number: \"))\n",
        "operation = input(\"Enter an Operation (+, -, *, /): \")\n",
        "\n",
        "def calculator(a, b, operation):\n",
        "  if operation == '+':\n",
        "    print(a, \"+\", b, \"=\", a + b)\n",
        "  elif operation == '-':\n",
        "    print(a, \"-\", b, \"=\", a - b)\n",
        "  elif operation == '*':\n",
        "    print(a, \"*\", b, \"=\", a * b)\n",
        "  elif operation == '/':\n",
        "    if b == 0:\n",
        "      print(\"Error: Division by zero.\")\n",
        "    else:\n",
        "      print(a, \"/\", b, \"=\", a / b)\n",
        "  else:\n",
        "    print(\"Invalid operation.\")\n",
        "calculator(a, b, operation)"
      ]
    }
  ]
}