{
  "nbformat": 4,
  "nbformat_minor": 0,
  "metadata": {
    "colab": {
      "provenance": [],
      "authorship_tag": "ABX9TyP/H6IgOW7V4W1hkdKEjpoF",
      "include_colab_link": true
    },
    "kernelspec": {
      "name": "python3",
      "display_name": "Python 3"
    },
    "language_info": {
      "name": "python"
    }
  },
  "cells": [
    {
      "cell_type": "markdown",
      "metadata": {
        "id": "view-in-github",
        "colab_type": "text"
      },
      "source": [
        "<a href=\"https://colab.research.google.com/github/itbvrith191227/30-Days-of-Python-Programming/blob/main/Mini_Project_(Day_10).ipynb\" target=\"_parent\"><img src=\"https://colab.research.google.com/assets/colab-badge.svg\" alt=\"Open In Colab\"/></a>"
      ]
    },
    {
      "cell_type": "markdown",
      "source": [
        "**Sum of Numbers in a List ➕**\n",
        "Ask the user for 5 numbers.Store them in a list.Use a loop to calculate and print the sum."
      ],
      "metadata": {
        "id": "6M1Njdx2JkZF"
      }
    },
    {
      "cell_type": "code",
      "source": [
        "nums = []\n",
        "for i in range(5):\n",
        "    n = int(input(f\"Enter number {i+1}: \"))\n",
        "    nums.append(n)\n",
        "total = 0\n",
        "for num in nums:\n",
        "    total += num\n",
        "print(\"The sum is:\", total)"
      ],
      "metadata": {
        "colab": {
          "base_uri": "https://localhost:8080/"
        },
        "id": "EhuBDfKUZnWa",
        "outputId": "a8f64ee8-fa1a-4272-e2cd-3d340d30f240"
      },
      "execution_count": 13,
      "outputs": [
        {
          "output_type": "stream",
          "name": "stdout",
          "text": [
            "Enter number 1: 1\n",
            "Enter number 2: 2\n",
            "Enter number 3: 3\n",
            "Enter number 4: 4\n",
            "Enter number 5: 5\n",
            "The sum is: 15\n"
          ]
        }
      ]
    }
  ]
}