{
  "nbformat": 4,
  "nbformat_minor": 0,
  "metadata": {
    "colab": {
      "provenance": [],
      "authorship_tag": "ABX9TyME7Ob20r3M1G+iqS9JpXlJ",
      "include_colab_link": true
    },
    "kernelspec": {
      "name": "python3",
      "display_name": "Python 3"
    },
    "language_info": {
      "name": "python"
    }
  },
  "cells": [
    {
      "cell_type": "markdown",
      "metadata": {
        "id": "view-in-github",
        "colab_type": "text"
      },
      "source": [
        "<a href=\"https://colab.research.google.com/github/itbvrith191227/30-Days-of-Python-Programming/blob/main/(Day_14)_Mini_Project_Unique_Words_Finder_.ipynb\" target=\"_parent\"><img src=\"https://colab.research.google.com/assets/colab-badge.svg\" alt=\"Open In Colab\"/></a>"
      ]
    },
    {
      "cell_type": "markdown",
      "source": [
        "Write a program that:\n",
        "Takes a sentence from the user.\n",
        "Splits it into words.\n",
        "Stores them in a set to remove duplicates.\n",
        "Prints all unique words."
      ],
      "metadata": {
        "id": "P7aNE_s8xb8n"
      }
    },
    {
      "cell_type": "code",
      "source": [
        "sentence = input(\"Enter a sentence:\")\n",
        "words = sentence.split()\n",
        "unique_words = set(words)\n",
        "print(unique_words)"
      ],
      "metadata": {
        "colab": {
          "base_uri": "https://localhost:8080/"
        },
        "id": "UYIXDWxe1VyY",
        "outputId": "edaa1676-899e-4247-e76f-7db22027d74b"
      },
      "execution_count": 3,
      "outputs": [
        {
          "output_type": "stream",
          "name": "stdout",
          "text": [
            "Enter a sentence:python is fun and python is simple and easy\n",
            "{'easy', 'fun', 'python', 'and', 'is', 'simple'}\n"
          ]
        }
      ]
    }
  ]
}