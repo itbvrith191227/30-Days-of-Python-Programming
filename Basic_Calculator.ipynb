{
  "nbformat": 4,
  "nbformat_minor": 0,
  "metadata": {
    "colab": {
      "provenance": [],
      "authorship_tag": "ABX9TyM8q/XRxP2F/eFAAdd9MGoH",
      "include_colab_link": true
    },
    "kernelspec": {
      "name": "python3",
      "display_name": "Python 3"
    },
    "language_info": {
      "name": "python"
    }
  },
  "cells": [
    {
      "cell_type": "markdown",
      "metadata": {
        "id": "view-in-github",
        "colab_type": "text"
      },
      "source": [
        "<a href=\"https://colab.research.google.com/github/itbvrith191227/30-Days-of-Python-Programming/blob/main/Basic_Calculator.ipynb\" target=\"_parent\"><img src=\"https://colab.research.google.com/assets/colab-badge.svg\" alt=\"Open In Colab\"/></a>"
      ]
    },
    {
      "cell_type": "code",
      "source": [
        "# Write a program that:\n",
        "# Asks the user for two numbers.\n",
        "# Asks which operation they want: +, -, *, /.\n",
        "# Performs that operation and prints the result."
      ],
      "metadata": {
        "id": "ZNPgXNhPAnNJ"
      },
      "execution_count": 6,
      "outputs": []
    },
    {
      "cell_type": "code",
      "source": [
        "x = int(input(\"Enter first number: \"))\n",
        "y = int(input(\"Enter second number: \"))\n",
        "operation = input(\"Enter an Operation (+, -, *, /): \")\n",
        "\n",
        "result = 0\n",
        "if operation == '+':\n",
        "  result = x + y\n",
        "elif operation == '-':\n",
        "  result = x - y\n",
        "elif operation == '*':\n",
        "  result = x * y\n",
        "elif operation == '/':\n",
        "  # Add a check for division by zero\n",
        "  if y != 0:\n",
        "    result = x / y\n",
        "  else:\n",
        "    print(\"Error: Division by zero!\")\n",
        "    exit() # Exit the program if division by zero occurs\n",
        "\n",
        "print(\"Result:\", result)"
      ],
      "metadata": {
        "colab": {
          "base_uri": "https://localhost:8080/"
        },
        "id": "poKgqkaP_nYB",
        "outputId": "af5da8d2-9a7e-488a-f729-64aaff66e20c"
      },
      "execution_count": 5,
      "outputs": [
        {
          "output_type": "stream",
          "name": "stdout",
          "text": [
            "Enter first number: 7\n",
            "Enter second number: 2\n",
            "Enter an Operation (+, -, *, /): -\n",
            "Result: 5\n"
          ]
        }
      ]
    }
  ]
}