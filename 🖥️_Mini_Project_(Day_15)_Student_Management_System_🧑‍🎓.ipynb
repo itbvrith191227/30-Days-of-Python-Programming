{
  "nbformat": 4,
  "nbformat_minor": 0,
  "metadata": {
    "colab": {
      "provenance": [],
      "authorship_tag": "ABX9TyMWTr+t/FZBgxbCTHKEuS9b",
      "include_colab_link": true
    },
    "kernelspec": {
      "name": "python3",
      "display_name": "Python 3"
    },
    "language_info": {
      "name": "python"
    }
  },
  "cells": [
    {
      "cell_type": "markdown",
      "metadata": {
        "id": "view-in-github",
        "colab_type": "text"
      },
      "source": [
        "<a href=\"https://colab.research.google.com/github/itbvrith191227/30-Days-of-Python-Programming/blob/main/%F0%9F%96%A5%EF%B8%8F_Mini_Project_(Day_15)_Student_Management_System_%F0%9F%A7%91%E2%80%8D%F0%9F%8E%93.ipynb\" target=\"_parent\"><img src=\"https://colab.research.google.com/assets/colab-badge.svg\" alt=\"Open In Colab\"/></a>"
      ]
    },
    {
      "cell_type": "markdown",
      "source": [
        "**Goal**: Store student info and perform basic operations.\n",
        "\n",
        "**Features**: Store multiple students using dictionary: Key: Roll Number Value: Tuple (Name, Age, Grade) Keep track of all courses in a set to avoid duplicates. Store a list of student roll numbers for iteration."
      ],
      "metadata": {
        "id": "6bp72hvHi1TP"
      }
    },
    {
      "cell_type": "code",
      "source": [
        "students = {}\n",
        "courses = set()\n",
        "roll_numbers = []"
      ],
      "metadata": {
        "id": "X4QP5jF0i8le"
      },
      "execution_count": 12,
      "outputs": []
    },
    {
      "cell_type": "code",
      "source": [
        "for i in range(3):\n",
        "  roll = int(input(\"Enter roll number: \"))\n",
        "  name = input(\"Enter name: \")\n",
        "  age = int(input(\"Enter age: \"))\n",
        "  grade = input(\"Enter grade: \")\n",
        "  course = input(\"Enter course:\")\n",
        "  students[roll] = (name, age, grade)\n",
        "  courses.add(course)\n",
        "  roll_numbers.append(roll)"
      ],
      "metadata": {
        "colab": {
          "base_uri": "https://localhost:8080/"
        },
        "id": "ZnoS9gmvjAyL",
        "outputId": "49e08339-deee-4288-dd40-c56bf9b5cbec"
      },
      "execution_count": 15,
      "outputs": [
        {
          "name": "stdout",
          "output_type": "stream",
          "text": [
            "Enter roll number: 1\n",
            "Enter name: shiv\n",
            "Enter age: 11\n",
            "Enter grade: A++\n",
            "Enter course:english\n",
            "Enter roll number: 2\n",
            "Enter name: selv\n",
            "Enter age: 12\n",
            "Enter grade: A+\n",
            "Enter course:science\n",
            "Enter roll number: 3\n",
            "Enter name: shrav\n",
            "Enter age: 13\n",
            "Enter grade: A\n",
            "Enter course:math\n"
          ]
        }
      ]
    },
    {
      "cell_type": "code",
      "source": [
        "print(\"\\nStudent Details:\")\n",
        "for roll in roll_numbers:\n",
        "    print(f\"Roll: {roll}, Info: {students[roll]}\")"
      ],
      "metadata": {
        "colab": {
          "base_uri": "https://localhost:8080/"
        },
        "id": "jgyKzjzMjvXG",
        "outputId": "13d869fa-f706-4c40-a107-57dcfb1fa1cc"
      },
      "execution_count": 16,
      "outputs": [
        {
          "output_type": "stream",
          "name": "stdout",
          "text": [
            "\n",
            "Student Details:\n",
            "Roll: 1, Info: ('shiv', 11, 'A++')\n",
            "Roll: 2, Info: ('selv', 12, 'A+')\n",
            "Roll: 3, Info: ('shrav', 13, 'A')\n"
          ]
        }
      ]
    },
    {
      "cell_type": "code",
      "source": [
        "for i in range(3):\n",
        "  course = input(\"Enter course to update:\")\n",
        "  courses.add(course)"
      ],
      "metadata": {
        "colab": {
          "base_uri": "https://localhost:8080/"
        },
        "id": "b6G4Y7aEj0x0",
        "outputId": "ee761e20-e6a9-46e2-d2e5-e16c0e6e85fe"
      },
      "execution_count": 22,
      "outputs": [
        {
          "name": "stdout",
          "output_type": "stream",
          "text": [
            "Enter course to update:telugu\n",
            "Enter course to update:hindi\n",
            "Enter course to update:social\n"
          ]
        }
      ]
    },
    {
      "cell_type": "code",
      "source": [
        "print(courses)"
      ],
      "metadata": {
        "colab": {
          "base_uri": "https://localhost:8080/"
        },
        "id": "uv3HNHwGkeAK",
        "outputId": "4c98b7bc-eb9a-4666-c077-31d0c1835204"
      },
      "execution_count": 24,
      "outputs": [
        {
          "output_type": "stream",
          "name": "stdout",
          "text": [
            "{'english', 'social', 'hindi', 'telugu', 'science', 'math'}\n"
          ]
        }
      ]
    }
  ]
}